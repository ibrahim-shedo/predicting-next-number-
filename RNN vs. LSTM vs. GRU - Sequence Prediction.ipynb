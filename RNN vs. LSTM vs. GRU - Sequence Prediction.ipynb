{
 "cells": [
  {
   "cell_type": "markdown",
   "id": "32821edf-f9e0-4da4-9172-4b4a16e24afe",
   "metadata": {},
   "source": [
    "## Comparing and predicting RNNs, LSTMs, and GRUs for language modeling."
   ]
  },
  {
   "cell_type": "code",
   "execution_count": 3,
   "id": "f396e7c0-f090-4169-9d52-477971b71a83",
   "metadata": {},
   "outputs": [
    {
     "name": "stdout",
     "output_type": "stream",
     "text": [
      "RNN Final Loss: 25.8953\n",
      "LSTM Final Loss: 19.4801\n",
      "GRU Final Loss: 9.0434\n",
      "\u001b[1m1/1\u001b[0m \u001b[32m━━━━━━━━━━━━━━━━━━━━\u001b[0m\u001b[37m\u001b[0m \u001b[1m0s\u001b[0m 210ms/step\n",
      "RNN Prediction: -0.1909\n",
      "\u001b[1m1/1\u001b[0m \u001b[32m━━━━━━━━━━━━━━━━━━━━\u001b[0m\u001b[37m\u001b[0m \u001b[1m0s\u001b[0m 292ms/step\n",
      "LSTM Prediction: 0.6652\n",
      "\u001b[1m1/1\u001b[0m \u001b[32m━━━━━━━━━━━━━━━━━━━━\u001b[0m\u001b[37m\u001b[0m \u001b[1m0s\u001b[0m 305ms/step\n",
      "GRU Prediction: 2.4425\n"
     ]
    }
   ],
   "source": [
    "import numpy as np\n",
    "import tensorflow as tf\n",
    "from tensorflow.keras.models import Sequential\n",
    "from tensorflow.keras.layers import SimpleRNN, LSTM, GRU, Dense\n",
    "\n",
    "# Sample dataset: input sequences and their next number\n",
    "data = np.array([[1, 2, 3], [2, 3, 4], [3, 4, 5]])  # Inputs\n",
    "targets = np.array([4, 5, 6])  # Expected outputs\n",
    "\n",
    "# Reshape data for sequential models (samples, time steps, features)\n",
    "data = data.reshape((3, 3, 1))\n",
    "\n",
    "# Function to create and train a model\n",
    "def train_model(model_type):\n",
    "    model = Sequential()\n",
    "    if model_type == \"RNN\":\n",
    "        model.add(SimpleRNN(10, input_shape=(3, 1)))\n",
    "    elif model_type == \"LSTM\":\n",
    "        model.add(LSTM(10, input_shape=(3, 1)))\n",
    "    elif model_type == \"GRU\":\n",
    "        model.add(GRU(10, input_shape=(3, 1)))\n",
    "    \n",
    "    model.add(Dense(1))  # Output layer\n",
    "    \n",
    "    model.compile(optimizer=\"adam\", loss=\"mse\")\n",
    "    model.fit(data, targets, epochs=50, verbose=0)  # Train silently\n",
    "    \n",
    "    loss = model.evaluate(data, targets, verbose=0)  # Compute loss\n",
    "    print(f\"{model_type} Final Loss: {loss:.4f}\")\n",
    "\n",
    "    return model\n",
    "\n",
    "# Train and compare models\n",
    "rnn_model = train_model(\"RNN\")\n",
    "lstm_model = train_model(\"LSTM\")\n",
    "gru_model = train_model(\"GRU\")\n",
    "\n",
    "# Predict on new data\n",
    "new_data = np.array([[4, 5, 6]])  # New input sequence\n",
    "new_data = new_data.reshape((1, 3, 1))  # Reshape for prediction\n",
    "\n",
    "print(f\"RNN Prediction: {rnn_model.predict(new_data)[0][0]:.4f}\")\n",
    "print(f\"LSTM Prediction: {lstm_model.predict(new_data)[0][0]:.4f}\")\n",
    "print(f\"GRU Prediction: {gru_model.predict(new_data)[0][0]:.4f}\")\n"
   ]
  },
  {
   "cell_type": "code",
   "execution_count": null,
   "id": "63b3280b-133f-44fa-b461-fb925a2da874",
   "metadata": {},
   "outputs": [],
   "source": []
  }
 ],
 "metadata": {
  "kernelspec": {
   "display_name": "Python 3 (ipykernel)",
   "language": "python",
   "name": "python3"
  },
  "language_info": {
   "codemirror_mode": {
    "name": "ipython",
    "version": 3
   },
   "file_extension": ".py",
   "mimetype": "text/x-python",
   "name": "python",
   "nbconvert_exporter": "python",
   "pygments_lexer": "ipython3",
   "version": "3.12.4"
  }
 },
 "nbformat": 4,
 "nbformat_minor": 5
}
